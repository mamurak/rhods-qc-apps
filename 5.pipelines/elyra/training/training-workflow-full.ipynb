{
 "cells": [
  {
   "cell_type": "code",
   "execution_count": null,
   "id": "4e4f02a2-0ee1-4558-be5e-4e29da391dbb",
   "metadata": {},
   "outputs": [],
   "source": [
    "from datetime import datetime\n",
    "from os import environ\n",
    "\n",
    "from boto3 import client\n",
    "from imblearn.over_sampling import SMOTE\n",
    "from keras.models import Sequential\n",
    "from keras.layers import Dense\n",
    "from keras.optimizers import Adam\n",
    "from numpy import load, save\n",
    "import onnx\n",
    "from pandas import read_csv\n",
    "from sklearn.model_selection import StratifiedKFold\n",
    "from sklearn.preprocessing import RobustScaler\n",
    "from tf2onnx import convert"
   ]
  },
  {
   "cell_type": "markdown",
   "id": "e2e01f3f-3013-42b3-b394-d081baae3010",
   "metadata": {},
   "source": [
    "## Reading data connection"
   ]
  },
  {
   "cell_type": "code",
   "execution_count": null,
   "id": "60986d55-552c-4b7b-8bf6-04e60b12634f",
   "metadata": {},
   "outputs": [],
   "source": [
    "s3_endpoint_url = environ.get('AWS_S3_ENDPOINT')\n",
    "s3_access_key = environ.get('AWS_ACCESS_KEY_ID')\n",
    "s3_secret_key = environ.get('AWS_SECRET_ACCESS_KEY')\n",
    "s3_bucket_name = environ.get('AWS_S3_BUCKET')"
   ]
  },
  {
   "cell_type": "markdown",
   "id": "f060c743-aac3-4a7e-ae9f-a652bead4cdc",
   "metadata": {},
   "source": [
    "# Data ingestion"
   ]
  },
  {
   "cell_type": "code",
   "execution_count": null,
   "id": "6c4d4dcb-b214-4f09-9a5d-9318f29d7f20",
   "metadata": {},
   "outputs": [],
   "source": [
    "print(f'Downloading data \"training-data.csv\" '\n",
    "      f'from bucket \"{s3_bucket_name}\" '\n",
    "      f'from S3 storage at {s3_endpoint_url}')\n",
    "\n",
    "s3_client = client(\n",
    "    's3', endpoint_url=s3_endpoint_url,\n",
    "    aws_access_key_id=s3_access_key, aws_secret_access_key=s3_secret_key\n",
    ")\n",
    "\n",
    "s3_client.download_file(\n",
    "    s3_bucket_name,\n",
    "    'data/training-data.csv',\n",
    "    './data/raw_data.csv'\n",
    ")"
   ]
  },
  {
   "cell_type": "markdown",
   "id": "d36a7894-2fc3-40c7-88b5-16473e4dc364",
   "metadata": {},
   "source": [
    "# Data preprocessing"
   ]
  },
  {
   "cell_type": "code",
   "execution_count": null,
   "id": "0e22288c-379f-4177-9415-8e75a2dceee3",
   "metadata": {},
   "outputs": [],
   "source": [
    "df = read_csv('./data/raw_data.csv')\n",
    "\n",
    "rob_scaler = RobustScaler()\n",
    "\n",
    "df['scaled_amount'] = rob_scaler.fit_transform(\n",
    "    df['Amount'].values.reshape(-1, 1)\n",
    ")\n",
    "df['scaled_time'] = rob_scaler.fit_transform(\n",
    "    df['Time'].values.reshape(-1, 1)\n",
    ")\n",
    "df.drop(['Time', 'Amount'], axis=1, inplace=True)\n",
    "scaled_amount = df['scaled_amount']\n",
    "scaled_time = df['scaled_time']\n",
    "\n",
    "df.drop(['scaled_amount', 'scaled_time'], axis=1, inplace=True)\n",
    "df.insert(0, 'scaled_amount', scaled_amount)\n",
    "df.insert(1, 'scaled_time', scaled_time)\n",
    "\n",
    "X = df.drop('Class', axis=1)\n",
    "y = df['Class']\n",
    "sss = StratifiedKFold(n_splits=5, random_state=None, shuffle=False)\n",
    "\n",
    "for train_index, test_index in sss.split(X, y):\n",
    "    print(\"Train:\", train_index, \"Test:\", test_index)\n",
    "    original_Xtrain = X.iloc[train_index]\n",
    "    original_ytrain = y.iloc[train_index]\n",
    "\n",
    "original_Xtrain = original_Xtrain.values\n",
    "original_ytrain = original_ytrain.values\n",
    "\n",
    "sm = SMOTE(sampling_strategy='minority', random_state=42)\n",
    "Xsm_train, ysm_train = sm.fit_resample(original_Xtrain, original_ytrain)\n",
    "\n",
    "save('./data/training_samples.npy', Xsm_train)\n",
    "save('./data/training_labels.npy', ysm_train)"
   ]
  },
  {
   "cell_type": "markdown",
   "id": "5d586d15-e1bd-4fe1-8590-8ad88e74ac62",
   "metadata": {},
   "source": [
    "# Model training"
   ]
  },
  {
   "cell_type": "code",
   "execution_count": null,
   "id": "16e70761-0a9f-42e6-b42e-a5c4210ae4ec",
   "metadata": {},
   "outputs": [],
   "source": [
    "epoch_count = 20\n",
    "learning_rate = 0.001\n",
    "\n",
    "Xsm_train = load('./data/training_samples.npy')\n",
    "ysm_train = load('./data/training_labels.npy')\n",
    "n_inputs = Xsm_train.shape[1]\n",
    "\n",
    "oversample_model = Sequential([\n",
    "    Dense(n_inputs, input_shape=(n_inputs, ), activation='relu'),\n",
    "    Dense(32, activation='relu'),\n",
    "    Dense(2, activation='softmax'),\n",
    "])\n",
    "oversample_model.compile(\n",
    "    Adam(learning_rate=learning_rate),\n",
    "    loss='sparse_categorical_crossentropy',\n",
    "    metrics=['accuracy'],\n",
    ")\n",
    "oversample_model.fit(\n",
    "    Xsm_train,\n",
    "    ysm_train,\n",
    "    validation_split=0.2,\n",
    "    batch_size=300,\n",
    "    epochs=epoch_count,\n",
    "    shuffle=True,\n",
    "    verbose=2,\n",
    ")\n",
    "onnx_model, _ = convert.from_keras(oversample_model)\n",
    "onnx.save(onnx_model, 'model.onnx')"
   ]
  },
  {
   "cell_type": "markdown",
   "id": "106fc0c8-5594-4141-a141-f627a7051c75",
   "metadata": {},
   "source": [
    "# Model upload"
   ]
  },
  {
   "cell_type": "code",
   "execution_count": null,
   "id": "20d8f879-012c-401b-b902-f06df03914f0",
   "metadata": {
    "tags": []
   },
   "outputs": [],
   "source": [
    "timestamp = datetime.now().strftime('%y%m%d%H%M')\n",
    "model_object_name = 'models/model-latest.onnx'\n",
    "\n",
    "try:\n",
    "    s3_client.upload_file('model.onnx', s3_bucket_name, model_object_name)\n",
    "except Exception:\n",
    "    print(f'S3 upload to bucket {s3_bucket_name} at {s3_endpoint_url} failed!')\n",
    "    raise\n",
    "print(f'model uploaded and available as \"{model_object_name}\"')"
   ]
  }
 ],
 "metadata": {
  "kernelspec": {
   "display_name": "Python 3.9",
   "language": "python",
   "name": "python3"
  },
  "language_info": {
   "codemirror_mode": {
    "name": "ipython",
    "version": 3
   },
   "file_extension": ".py",
   "mimetype": "text/x-python",
   "name": "python",
   "nbconvert_exporter": "python",
   "pygments_lexer": "ipython3",
   "version": "3.9.18"
  }
 },
 "nbformat": 4,
 "nbformat_minor": 5
}
