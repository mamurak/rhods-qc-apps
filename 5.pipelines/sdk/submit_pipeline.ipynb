{
 "cells": [
  {
   "cell_type": "markdown",
   "id": "9c64f5e1-14bc-436f-8153-89cb305a46b3",
   "metadata": {},
   "source": [
    "# Submitting pipelines via the Kubeflow Pipelines SDK\n",
    "\n",
    "We're first importing our custom Pipelines wrapper and the model training pipeline that is defined via the Kubeflow Pipelines SDK."
   ]
  },
  {
   "cell_type": "code",
   "execution_count": null,
   "id": "c3ae234f-bc2a-466e-bef9-8449804e035d",
   "metadata": {
    "tags": []
   },
   "outputs": [],
   "source": [
    "from kfp_pipeline import KfpPipeline, model_training_pipeline"
   ]
  },
  {
   "cell_type": "markdown",
   "id": "fb973b8c-34b5-4735-aed4-9814f5939330",
   "metadata": {},
   "source": [
    "Let's now upload the pipeline as a new version of the pipeline named `model-training-sdk-pipeline`."
   ]
  },
  {
   "cell_type": "code",
   "execution_count": null,
   "id": "96f4f22b-c2fe-4ec5-a1ad-b7956be75a0c",
   "metadata": {
    "tags": []
   },
   "outputs": [],
   "source": [
    "uploaded_pipeline = KfpPipeline(\n",
    "    model_training_pipeline, 'model-training-sdk-pipeline'\n",
    ")"
   ]
  },
  {
   "cell_type": "markdown",
   "id": "a7d02215-9f9d-4b84-8680-8a211a185502",
   "metadata": {},
   "source": [
    "We can now trigger one or more runs of this pipeline using any combination of pipeline parameter values. In the following example, we're sampling 4 combinations of the `epoch_count` and `learning_rate` hyperparameters."
   ]
  },
  {
   "cell_type": "code",
   "execution_count": null,
   "id": "b948bedb-5448-4719-a970-bbc277d05c40",
   "metadata": {
    "tags": []
   },
   "outputs": [],
   "source": [
    "for epoch_count in [5, 10]:\n",
    "    for learning_rate in [0.001, 0.002]:\n",
    "        uploaded_pipeline.run_with_parameters(\n",
    "            pipeline_parameters={\n",
    "                'data_object_name': 'training-data.csv',\n",
    "                'epoch_count': epoch_count,\n",
    "                'learning_rate': learning_rate,\n",
    "                'model_object_prefix': 'model',\n",
    "            },\n",
    "            experiment_name='model_training-kfp'\n",
    "        )"
   ]
  },
  {
   "cell_type": "markdown",
   "id": "fcfe4b10-56ae-46a7-9175-9d82aef4e5ed",
   "metadata": {},
   "source": [
    "All pipeline runs can now be tracked and compared in the RHOAI dashboard under experiment `model_training-kfp`."
   ]
  }
 ],
 "metadata": {
  "kernelspec": {
   "display_name": "Python 3.9",
   "language": "python",
   "name": "python3"
  },
  "language_info": {
   "codemirror_mode": {
    "name": "ipython",
    "version": 3
   },
   "file_extension": ".py",
   "mimetype": "text/x-python",
   "name": "python",
   "nbconvert_exporter": "python",
   "pygments_lexer": "ipython3",
   "version": "3.9.18"
  }
 },
 "nbformat": 4,
 "nbformat_minor": 5
}
